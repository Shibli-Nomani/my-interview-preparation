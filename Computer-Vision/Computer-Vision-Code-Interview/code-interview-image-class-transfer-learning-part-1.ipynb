{
 "cells": [
  {
   "cell_type": "markdown",
   "metadata": {},
   "source": [
    "### 🌝 Profile Discription: \n",
    "\n",
    "* 🌐 Name: Khan Md Shibli Nomani\n",
    "* 🎃 My LinkedIn Profile: https://www.linkedin.com/in/khan-md-shibli-nomani-45445612b/\n",
    "* 🏂 My Github Profile: https://github.com/Shibli-Nomani\n",
    "* 🎿 My Kaggle Profile: https://www.kaggle.com/shiblinomani\n",
    "* 📧 reach me: email: kmshiblinomanii@gmail.com "
   ]
  },
  {
   "cell_type": "markdown",
   "metadata": {},
   "source": [
    "# 🐍 Computer Vision, Convolutional Neural Network and Transfer Learning"
   ]
  },
  {
   "cell_type": "markdown",
   "metadata": {},
   "source": [
    "##### 1. What is Computer Vision, and how is it used?\n",
    "\n",
    "Answer: Computer Vision involves enabling computers to interpret and understand visual information from images or videos. It's used in various fields like object recognition, image classification, and robotics."
   ]
  },
  {
   "cell_type": "markdown",
   "metadata": {},
   "source": [
    "##### 2. How can you **read an image** in Python using OpenCV?\n",
    "\n",
    "Answer: In OpenCV, you can use the **cv2.imread()** function to read an image. \n",
    "\n",
    "For example:\n"
   ]
  },
  {
   "cell_type": "code",
   "execution_count": null,
   "metadata": {},
   "outputs": [],
   "source": [
    "import cv2\n",
    "image = cv2.imread('image_path.jpg')"
   ]
  },
  {
   "cell_type": "markdown",
   "metadata": {},
   "source": [
    "##### 3. How can you **read an image** in Python using Matplotlib?\n",
    "\n",
    "Answer: We can read an image in Python using **Matplotlib** by utilizing the **imread()** function "
   ]
  },
  {
   "cell_type": "code",
   "execution_count": null,
   "metadata": {},
   "outputs": [],
   "source": [
    "import matplotlib.pyplot as plt\n",
    "import matplotlib.image as mpimg\n",
    "\n",
    "# Read the image\n",
    "image_path = 'path/to/your/image.jpg'  # Replace this with your image file path\n",
    "img = mpimg.imread(image_path)\n",
    "\n",
    "# Display the image\n",
    "plt.imshow(img)\n",
    "plt.axis('off')  # To turn off axis labels and ticks\n",
    "plt.show()\n"
   ]
  },
  {
   "cell_type": "markdown",
   "metadata": {},
   "source": [
    "##### 4. Explain the purpose of the NumPy library in Computer Vision with Python.\n",
    "Answer: **NumPy** is crucial in **Computer Vision** as it provides powerful data structures and mathematical functions for handling **arrays and matrices**, which are **fundamental for image processing tasks**."
   ]
  },
  {
   "cell_type": "markdown",
   "metadata": {},
   "source": [
    "##### 5. What is the role of Convolutional Neural Networks (CNNs) in Computer Vision?\n",
    "\n",
    "Answer: **CNNs** are specialized neural networks designed to **process grid-like data**, such as **images**. They're effective in tasks like **image recognition and object detection** due to their **ability to learn hierarchical representations of visual data**."
   ]
  },
  {
   "cell_type": "markdown",
   "metadata": {},
   "source": [
    "##### 6. How can you perform image resizing in OpenCV using Python?\n",
    "\n",
    "Answer: In **OpenCV**, you can resize an image using the **cv2.resize()** function. \n",
    "\n",
    "For example:"
   ]
  },
  {
   "cell_type": "code",
   "execution_count": null,
   "metadata": {},
   "outputs": [],
   "source": [
    "resized_image = cv2.resize(image, (new_width, new_height))"
   ]
  },
  {
   "cell_type": "markdown",
   "metadata": {},
   "source": [
    "##### 7. What is meant by image thresholding, and how is it useful in Computer Vision?\n",
    "\n",
    "Answer: **Image thresholding** is a technique used to **separate regions or objects** in an image based on **pixel intensity**. It's valuable in tasks like **object segmentation**, where it helps separate objects **from the background**."
   ]
  },
  {
   "cell_type": "markdown",
   "metadata": {},
   "source": [
    "##### 8. Explain the concept of edge detection in Computer Vision.\n",
    "Answer: **Edge detection** involves **identifying the boundaries of objects within an image**. Techniques like **Sobel, Canny, or Laplacian of Gaussian (LoG)** are commonly used for edge detection."
   ]
  },
  {
   "cell_type": "markdown",
   "metadata": {},
   "source": [
    "##### 9. How can you perform image smoothing or blurring in OpenCV using Python?\n",
    "Answer: **OpenCV** provides various functions like **cv2.GaussianBlur()** or **cv2.medianBlur()** to perform image **smoothing or blurring for noise reduction** or preprocessing."
   ]
  },
  {
   "cell_type": "markdown",
   "metadata": {},
   "source": [
    "##### 10. What is the purpose of Histogram Equalization in image processing?\n",
    "Answer: **Histogram Equalization** **enhances the contrast of an image** by **reassigning pixel intensities** to improve visual quality, especially in images with **low contrast**."
   ]
  },
  {
   "cell_type": "markdown",
   "metadata": {},
   "source": [
    "##### 11. How can you apply a mask to an image in OpenCV using Python?\n",
    "\n",
    "Answer: In OpenCV, you can apply **a mask** to **an image** using **bitwise operations**. \n",
    "\n",
    "**Bitwise operations** in image processing involve **manipulating pixels** at the **binary level** using **logical operations** such as **AND, OR, XOR, and NOT**. These operations are **applied to the pixel values** to achieve specific **image processing** tasks like **masking, blending, or extracting regions of interest**.\n",
    "\n",
    "For instance:"
   ]
  },
  {
   "cell_type": "code",
   "execution_count": null,
   "metadata": {},
   "outputs": [],
   "source": [
    "masked_image = cv2.bitwise_and(image, mask)"
   ]
  },
  {
   "cell_type": "markdown",
   "metadata": {},
   "source": [
    "##### 12. How can you convert an image to grayscale using Python and OpenCV?\n",
    "\n",
    "Answer: To convert an **image** to **grayscale** using OpenCV"
   ]
  },
  {
   "cell_type": "code",
   "execution_count": null,
   "metadata": {},
   "outputs": [],
   "source": [
    "gray_image = cv2.cvtColor(image, cv2.COLOR_BGR2GRAY)"
   ]
  },
  {
   "cell_type": "markdown",
   "metadata": {},
   "source": [
    "##### 13. Explain Harris Corner Detection and its use in Computer Vision.\n",
    "\n",
    "Answer: **Harris Corner Detection** is a method used to **detect corners** in images by **identifying variations in intensity**. It's valuable in **feature extraction and object recognition task**"
   ]
  },
  {
   "cell_type": "markdown",
   "metadata": {},
   "source": [
    "##### 14. What is the purpose of the Hough Transform in Computer Vision?\n",
    "\n",
    "Answer: The **Hough Transform** is used for **detecting shapes**, particularly **lines and circles**, within an image. It's extensively used in image analysis, such as detecting straight lines in **edge-detected images**."
   ]
  },
  {
   "cell_type": "markdown",
   "metadata": {},
   "source": [
    "##### 15. How does the concept of Transfer Learning apply to Convolutional Neural Networks in Computer Vision?\n",
    "\n",
    "Answer: **Transfer Learning** involves using **pre-trained** CNN models and **fine-tuning them** on a **new dataset for a specific task**. It allows **leveraging knowledge learned** from **one task/domain** and applying it to **another with relatively smaller datasets**."
   ]
  },
  {
   "cell_type": "markdown",
   "metadata": {},
   "source": [
    "##### 16. Explain the concept of Data Augmentation in Computer Vision.\n",
    "\n",
    "Answer: Data Augmentation involves **creating variations of training data** by applying transformations such as **rotation, flipping, scaling, or adding noise** to increase the **diversity of the dataset**. It helps improve the model's generalization and robustness.\n",
    "\n",
    "**Data Augmentation** can be performed **on-the-fly without storing** the augmented data separately."
   ]
  },
  {
   "cell_type": "markdown",
   "metadata": {},
   "source": [
    "##### 17. What role does the Rectified Linear Activation Function (ReLU) play in Convolutional Neural Networks?\n",
    "\n",
    "Answer: **ReLU** is a popular **activation function** used in CNNs that introduces **non-linearity** by setting all **negative values to zero**. It helps in **addressing** the **vanishing gradient problem** and accelerates the training process."
   ]
  },
  {
   "cell_type": "markdown",
   "metadata": {},
   "source": [
    "##### 18. How can you perform image segmentation using Python and OpenCV?\n",
    "\n",
    "Answer: **Image segmentation** can be performed using techniques like **thresholding, edge detection, or more advanced methods like region-based segmentation or clustering algorithms**."
   ]
  },
  {
   "cell_type": "markdown",
   "metadata": {},
   "source": [
    "##### 19. What are the different methods of object detection in Computer Vision?\n",
    "\n",
    "Answer: **Object detection** methods include techniques like **Single Shot Multibox Detector (SSD), You Only Look Once (YOLO), Region-based CNNs (R-CNN)**, and their variants, which **identify and localize objects within images**."
   ]
  },
  {
   "cell_type": "markdown",
   "metadata": {},
   "source": [
    "##### 20. What are the different methods of object detection in Computer Vision?\n",
    "\n",
    "Answer: Object detection methods include techniques like Single Shot Multibox Detector (SSD), **You Only Look Once (YOLO)**, **Region-based CNNs (R-CNN)**, **Faster R-CNN** and their variants, which **identify and localize objects** within images."
   ]
  },
  {
   "cell_type": "markdown",
   "metadata": {},
   "source": [
    "##### 21. Explain the concept of Optical Flow in Computer Vision.\n",
    "\n",
    "Answer: **Optical Flow** is a technique used to **track the motion of objects or features** in **consecutive frames of a video sequence**. It estimates the **movement of pixels between frames**."
   ]
  },
  {
   "cell_type": "markdown",
   "metadata": {},
   "source": [
    "##### 22. What is the purpose of Non-Maximum Suppression (NMS) in object detection?\n",
    "Answer: **NMS** is used to **eliminate redundant or overlapping bounding boxes** generated by an **object detection algorithm**. It helps select the most accurate bounding boxes for detected objects."
   ]
  },
  {
   "cell_type": "markdown",
   "metadata": {},
   "source": [
    "# Tensorflow for Image Classification"
   ]
  },
  {
   "cell_type": "markdown",
   "metadata": {},
   "source": [
    "##### 23. How can you load and preprocess an image for image classification using TensorFlow/Keras?\n",
    "Answer: Using TensorFlow/Keras:\n",
    "* 1. load image: **image.load_img**\n",
    "* 2. image to array: **img_to_array**\n",
    "* 3. add dimension: **np.expand_dims**--->(batch_size, height, width, channels)"
   ]
  },
  {
   "cell_type": "code",
   "execution_count": null,
   "metadata": {},
   "outputs": [],
   "source": [
    "from tensorflow.keras.preprocessing import image\n",
    "img_path = 'path_to_image.jpg'\n",
    "img = image.load_img(img_path, target_size=(224, 224))\n",
    "img_array = image.img_to_array(img)\n",
    "img_array = np.expand_dims(img_array, axis=0)\n"
   ]
  },
  {
   "cell_type": "markdown",
   "metadata": {},
   "source": [
    "##### 24. Explain how to create a basic CNN model for image classification using TensorFlow/Keras.\n",
    "\n",
    "Answer: This code defines a Convolutional Neural Network (CNN) in Keras with three convolutional layers followed by **max-pooling layers for feature extraction and spatial reduction**. It concludes with dense layers for classification, comprising a **flatten layer(multi-D to 1-D)** to reshape the data and two **fully connected layers**, using **ReLU activation for feature extraction** and **softmax for multi-class classification**."
   ]
  },
  {
   "cell_type": "code",
   "execution_count": null,
   "metadata": {},
   "outputs": [],
   "source": [
    "from tensorflow.keras.models import Sequential\n",
    "from tensorflow.keras.layers import Conv2D, MaxPooling2D, Flatten, Dense\n",
    "\n",
    "model = Sequential()\n",
    "model.add(Conv2D(32, (3, 3), activation='relu', input_shape=(224, 224, 3)))\n",
    "model.add(MaxPooling2D((2, 2)))\n",
    "model.add(Conv2D(64, (3, 3), activation='relu'))\n",
    "model.add(MaxPooling2D((2, 2)))\n",
    "model.add(Conv2D(128, (3, 3), activation='relu'))\n",
    "model.add(MaxPooling2D((2, 2)))\n",
    "model.add(Flatten())\n",
    "model.add(Dense(128, activation='relu'))\n",
    "model.add(Dense(num_classes, activation='softmax'))\n"
   ]
  },
  {
   "cell_type": "markdown",
   "metadata": {},
   "source": [
    "##### 25. How can you load a pre-trained VGG16 model in Keras for image classification?\n",
    "\n",
    "Answer: Initializes the VGG16 model pre-trained on the **ImageNet dataset** (weights='imagenet').**include_top=False** **excludes the densely connected classifier layers** of **pre-trained model**. **input_shape=(224, 224, 3)** sets the expected input image shape to (height: 224, width: 224, channels: 3 - RGB)."
   ]
  },
  {
   "cell_type": "code",
   "execution_count": null,
   "metadata": {},
   "outputs": [],
   "source": [
    "from tensorflow.keras.applications import VGG16\n",
    "from tensorflow.keras.models import Model\n",
    "\n",
    "base_model = VGG16(weights='imagenet', include_top=False, input_shape=(224, 224, 3))\n"
   ]
  },
  {
   "cell_type": "markdown",
   "metadata": {},
   "source": [
    "##### 26. How can you perform Transfer Learning using a pre-trained model (e.g., VGG16) for image classification in Keras?\n",
    "\n",
    "Answer: Using Transfer Learning with VGG16: \n",
    "\n",
    "**model = Model(inputs=base_model.input, outputs=predictions)**\n",
    "here, \n",
    "**Model:** It allows direct **access to the Model class** without importing the entire contents of the models module. \n",
    "\n",
    "**inputs=base_model.input:** tensor of pretrained model inputs.\n",
    "\n",
    "**outputs=predictions** outputs of custom dense layer.\n",
    "\n",
    "**layer.trainable = False**; **freezes the weights of all layers in the base_model**. weight of pre-trained model will not updated during training. If it is **True**, weight of pre-trained model of each **layer will be updated** and **fine-tunable** during training.\n"
   ]
  },
  {
   "cell_type": "code",
   "execution_count": null,
   "metadata": {},
   "outputs": [],
   "source": [
    "from tensorflow.keras.applications import VGG16\n",
    "from tensorflow.keras.models import Model\n",
    "\n",
    "base_model = VGG16(weights='imagenet', include_top=False, input_shape=(224, 224, 3))\n",
    "x = base_model.output\n",
    "x = Flatten()(x)\n",
    "predictions = Dense(num_classes, activation='softmax')(x)\n",
    "model = Model(inputs=base_model.input, outputs=predictions)\n",
    "for layer in base_model.layers:\n",
    "    layer.trainable = False\n"
   ]
  },
  {
   "cell_type": "markdown",
   "metadata": {},
   "source": [
    "##### 27. How do you perform fine-tuning of pre-trained VGG16 layers in Keras?\n",
    "\n",
    "\n",
    "These lines iteratively set the **first 15 layers** in base_model as **non-trainable (frozen)**, **preserving pre-trained weights**, and allow the subsequent layers **(starting from the 16th layer)** to be trainable for **fine-tuning or additional learning** during model training."
   ]
  },
  {
   "cell_type": "code",
   "execution_count": null,
   "metadata": {},
   "outputs": [],
   "source": [
    "for layer in base_model.layers[:15]:\n",
    "    layer.trainable = False\n",
    "for layer in base_model.layers[15:]:\n",
    "    layer.trainable = True\n"
   ]
  },
  {
   "cell_type": "markdown",
   "metadata": {},
   "source": [
    "##### 28. Explain how to compile and train a Transfer Learning model in Keras for image classification.\n",
    "\n",
    "Answer: Compiling and training the Transfer Learning model:"
   ]
  },
  {
   "cell_type": "code",
   "execution_count": null,
   "metadata": {},
   "outputs": [],
   "source": [
    "model.compile(optimizer='adam', loss='categorical_crossentropy', metrics=['accuracy'])\n",
    "model.fit(train_data, train_labels, epochs=10, batch_size=32, validation_data=(val_data, val_labels))"
   ]
  },
  {
   "cell_type": "markdown",
   "metadata": {},
   "source": [
    "##### 29. How can you use Data Augmentation in Keras for improving image classification models?\n",
    "\n",
    "Answer: Using Data Augmentation in Keras:"
   ]
  },
  {
   "cell_type": "code",
   "execution_count": null,
   "metadata": {},
   "outputs": [],
   "source": [
    "from tensorflow.keras.preprocessing.image import ImageDataGenerator\n",
    "datagen = ImageDataGenerator(rotation_range=40, width_shift_range=0.2, height_shift_range=0.2, shear_range=0.2, zoom_range=0.2, horizontal_flip=True, fill_mode='nearest')\n"
   ]
  },
  {
   "cell_type": "markdown",
   "metadata": {},
   "source": [
    "##### 30. Explain how to use a pre-trained model as a feature extractor in Keras.\n",
    "Answer: Using a pre-trained model as a feature extractor:\n",
    "\n",
    "This code initializes a VGG16 model pre-trained on ImageNet while excluding its top classification layers and then constructs a new model using the layers of base_model up to 'block4_pool' as its output, allowing feature extraction from this specific layer."
   ]
  },
  {
   "cell_type": "code",
   "execution_count": null,
   "metadata": {},
   "outputs": [],
   "source": [
    "from tensorflow.keras.models import Model\n",
    "\n",
    "base_model = VGG16(weights='imagenet', include_top=False, input_shape=(224, 224, 3))\n",
    "model = Model(inputs=base_model.input, outputs=base_model.get_layer('block4_pool').output)\n"
   ]
  },
  {
   "cell_type": "markdown",
   "metadata": {},
   "source": [
    "##### 31. How to perform image classification using a trained model in Keras?\n",
    "Answer: Performing image classification using a trained model:"
   ]
  },
  {
   "cell_type": "code",
   "execution_count": null,
   "metadata": {},
   "outputs": [],
   "source": [
    "predictions = model.predict(img_array)"
   ]
  },
  {
   "cell_type": "markdown",
   "metadata": {},
   "source": [
    "##### 32. Explain how to evaluate the performance of an image classification model in Keras.\n",
    "Answer: Evaluating model performance in Keras:"
   ]
  },
  {
   "cell_type": "code",
   "execution_count": null,
   "metadata": {},
   "outputs": [],
   "source": [
    "test_loss, test_acc = model.evaluate(test_data, test_labels)"
   ]
  },
  {
   "cell_type": "markdown",
   "metadata": {},
   "source": [
    "### 33.  Steps for CNN image classification with custom model\n",
    "1. BUILD MODEL\n",
    "    * Input Layer Setup\n",
    "    * Convolutional Layer Addition\n",
    "    * Pooling Layer Integration\n",
    "    * Flattening the Data\n",
    "    * Dense Layer Incorporation\n",
    "    * Output Layer Configuration\n",
    "2. MODEL COMPILE, TENSORBOARD, CHECKPOINT, REDUCE_LR\n",
    "3. MODEL FITTING AND PREDICTION\n",
    "4. MODEL EVALUATION"
   ]
  }
 ],
 "metadata": {
  "kernelspec": {
   "display_name": "env_interview",
   "language": "python",
   "name": "python3"
  },
  "language_info": {
   "name": "python",
   "version": "3.8.6"
  }
 },
 "nbformat": 4,
 "nbformat_minor": 2
}
